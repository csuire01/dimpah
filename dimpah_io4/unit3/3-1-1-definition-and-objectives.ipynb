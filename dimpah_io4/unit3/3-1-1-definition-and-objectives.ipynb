{
 "cells": [
  {
   "cell_type": "markdown",
   "id": "e99aa539",
   "metadata": {},
   "source": [
    "# 1. Overview and definitions"
   ]
  },
  {
   "cell_type": "markdown",
   "id": "64ce1c03",
   "metadata": {},
   "source": [
    "## a. Definition and objectives"
   ]
  },
  {
   "cell_type": "markdown",
   "id": "6cda2b3e",
   "metadata": {},
   "source": [
    "### 1. What is the purpose of indexing data ?\n",
    "Indexes are used to quickly find items or ideas.\n",
    "\n",
    "Allow fast retrieval from a large collection"
   ]
  },
  {
   "cell_type": "markdown",
   "id": "046de7ea",
   "metadata": {},
   "source": [
    "### 2. Common use cases\n",
    "Overview of common use cases in DH (archives, web archives, open data, ...) and CS/Development (search engines, monitoring, analytics, etc.)"
   ]
  },
  {
   "cell_type": "markdown",
   "id": "145a23ce",
   "metadata": {},
   "source": [
    "### 3. Technicalities\n",
    "Conceptually, indexing is a trade of disk space for search time."
   ]
  },
  {
   "cell_type": "markdown",
   "id": "0652da34",
   "metadata": {},
   "source": [
    "## b. Tools and methodology"
   ]
  },
  {
   "cell_type": "markdown",
   "id": "6fd74f74",
   "metadata": {},
   "source": [
    "### 1. What data should be indexed ?\n",
    "Basically you should index what you need, as indexes can quickly grow and demand a lot of resources.\n",
    "\n",
    "Depends on the collection, the users’ need and the available resources (some compromises need to be made)\n",
    "\n",
    "Example with the NewsEye project."
   ]
  },
  {
   "cell_type": "markdown",
   "id": "c86f648a",
   "metadata": {},
   "source": [
    "### 2. How can it be done ?"
   ]
  },
  {
   "cell_type": "markdown",
   "id": "b186628a",
   "metadata": {},
   "source": [
    "Various tools can be used but we will focus on Solr in this lesson. All the principles will still be valid in other contexts."
   ]
  }
 ],
 "metadata": {
  "kernelspec": {
   "display_name": "Python 3",
   "language": "python",
   "name": "python3"
  },
  "language_info": {
   "codemirror_mode": {
    "name": "ipython",
    "version": 3
   },
   "file_extension": ".py",
   "mimetype": "text/x-python",
   "name": "python",
   "nbconvert_exporter": "python",
   "pygments_lexer": "ipython3",
   "version": "3.8.0"
  }
 },
 "nbformat": 4,
 "nbformat_minor": 5
}
