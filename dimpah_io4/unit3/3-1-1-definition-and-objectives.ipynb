{
 "cells": [
  {
   "cell_type": "markdown",
   "id": "64ce1c03",
   "metadata": {},
   "source": [
    "# Definition and objectives"
   ]
  },
  {
   "cell_type": "markdown",
   "id": "6cda2b3e",
   "metadata": {},
   "source": [
    "# Solr\n",
    "First, here is the [documentation](https://solr.apache.org)."
   ]
  },
  {
   "cell_type": "code",
   "execution_count": null,
   "id": "510288cb",
   "metadata": {},
   "outputs": [],
   "source": []
  }
 ],
 "metadata": {
  "kernelspec": {
   "display_name": "Python 3",
   "language": "python",
   "name": "python3"
  },
  "language_info": {
   "codemirror_mode": {
    "name": "ipython",
    "version": 3
   },
   "file_extension": ".py",
   "mimetype": "text/x-python",
   "name": "python",
   "nbconvert_exporter": "python",
   "pygments_lexer": "ipython3",
   "version": "3.8.0"
  }
 },
 "nbformat": 4,
 "nbformat_minor": 5
}
