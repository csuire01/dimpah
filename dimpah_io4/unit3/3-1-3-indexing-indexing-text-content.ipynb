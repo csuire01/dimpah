{
 "cells": [
  {
   "cell_type": "markdown",
   "id": "e8fddb42",
   "metadata": {},
   "source": [
    "# 3. Indexing textual content"
   ]
  },
  {
   "cell_type": "markdown",
   "id": "671a1631",
   "metadata": {},
   "source": [
    "## a. Pre-processing steps"
   ]
  },
  {
   "cell_type": "markdown",
   "id": "51d92a0d",
   "metadata": {},
   "source": [
    "### 1. Dependency to language\n",
    "A lot of steps inherent to the indexing process are language dependant. And it may be necessary in some cases to detect the language of documents. This can be done using various methods:\n",
    "\n",
    "- Presence/absence of functional words (‘the’ in English for example)\n",
    "- Statistical analyses of n-gram frequencies\n"
   ]
  },
  {
   "cell_type": "markdown",
   "id": "fed217b3",
   "metadata": {},
   "source": [
    "### 2. Tokenization"
   ]
  },
  {
   "cell_type": "markdown",
   "id": "996351b9",
   "metadata": {},
   "source": [
    "### 3. Stop words"
   ]
  },
  {
   "cell_type": "markdown",
   "id": "9b8e1c95",
   "metadata": {},
   "source": [
    "### 4. Stemming"
   ]
  },
  {
   "cell_type": "markdown",
   "id": "23082e7c",
   "metadata": {},
   "source": [
    "## b. How does all this impact search ?"
   ]
  },
  {
   "cell_type": "code",
   "execution_count": null,
   "id": "11ca8cf3",
   "metadata": {},
   "outputs": [],
   "source": []
  }
 ],
 "metadata": {
  "kernelspec": {
   "display_name": "Python 3",
   "language": "python",
   "name": "python3"
  },
  "language_info": {
   "codemirror_mode": {
    "name": "ipython",
    "version": 3
   },
   "file_extension": ".py",
   "mimetype": "text/x-python",
   "name": "python",
   "nbconvert_exporter": "python",
   "pygments_lexer": "ipython3",
   "version": "3.8.0"
  }
 },
 "nbformat": 4,
 "nbformat_minor": 5
}
