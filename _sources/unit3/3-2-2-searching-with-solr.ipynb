{
 "cells": [
  {
   "cell_type": "markdown",
   "id": "5986156c",
   "metadata": {},
   "source": [
    "# 2. Searching with Solr"
   ]
  },
  {
   "cell_type": "markdown",
   "id": "ad16a645",
   "metadata": {},
   "source": [
    "## a. Technicalities and Syntax"
   ]
  },
  {
   "cell_type": "markdown",
   "id": "43201000",
   "metadata": {},
   "source": [
    "**<u>Querying a Solr server</u>**\n",
    "\n",
    "A Solr index is available at the following address [http://solrserver](http://solrserver). Querying a Solr server can be done in multiple ways but the simplest one is to use a HTTP GET request with query string. This is a lot of technical terms just to say that we will create a URL pointing towards the Solr server and add some parameters to it. Parameters can be added to any URL this way: [https://www.example.com/page?param1=val1&param2=val2]().\n",
    "If one of the parameter should contain an array of values, you can just repeat the parameter for each value of the array: [https://www.example.com/page?param1=val1&param1=val2](). Be careful that passing arrays as query parameters is not standardised, and other services may not work the same way (but Solr does !).\n",
    "Solr will then process the query and will return a list of resulting documents, along with other information."
   ]
  },
  {
   "cell_type": "code",
   "execution_count": 34,
   "id": "0df86b98",
   "metadata": {},
   "outputs": [],
   "source": [
    "import urllib\n",
    "import json\n",
    "import ipywidgets as widgets\n",
    "from ipywidgets import interact, interact_manual\n",
    "import itertools\n",
    "import uuid\n",
    "from IPython.display import display_javascript, display_html, display, clear_output, JSON\n",
    "import IPython"
   ]
  },
  {
   "cell_type": "code",
   "execution_count": 35,
   "id": "ea742349",
   "metadata": {},
   "outputs": [],
   "source": [
    "class RenderJSON(object):\n",
    "    def __init__(self, json_data):\n",
    "        if isinstance(json_data, dict):\n",
    "            self.json_str = json.dumps(json_data)\n",
    "        else:\n",
    "            self.json_str = json\n",
    "        self.uuid = str(uuid.uuid4())\n",
    "        \n",
    "    def _ipython_display_(self):\n",
    "        display_html('<div id=\"{}\" style=\"height: 600px; width:100%;\"></div>'.format(self.uuid),\n",
    "            raw=True\n",
    "        )\n",
    "        display_javascript(\"\"\"\n",
    "        require([\"https://rawgit.com/caldwell/renderjson/master/renderjson.js\"], function() {\n",
    "          document.getElementById('%s').appendChild(renderjson(%s))\n",
    "        });\n",
    "        \"\"\" % (self.uuid, self.json_str), raw=True)"
   ]
  },
  {
   "cell_type": "code",
   "execution_count": 36,
   "id": "c67e7b1b",
   "metadata": {},
   "outputs": [],
   "source": [
    "def query_solr(url, param_widgets):\n",
    "    for key in param_widgets:\n",
    "        if isinstance(param_widgets[key],list):\n",
    "            for param in param_widgets[key]:\n",
    "                url += key + '=' + param.value.replace(' ','+') + '&'\n",
    "        else:\n",
    "            url += key + '=' + param_widgets[key].value.replace(' ','+') + '&'\n",
    "    url += \"echoParams=all\"\n",
    "        \n",
    "    print(\"Querying \",url)\n",
    "    connection = urllib.request.urlopen(url)\n",
    "    response = json.load(connection)\n",
    "    return response\n",
    "\n",
    "def generate_widgets(params_list):\n",
    "    global params_widgets\n",
    "    params_widgets = {}\n",
    "    for param in params_list:\n",
    "        params_widgets[param[0]] = [widgets.Text(\n",
    "            value=param[1],\n",
    "            placeholder='query',\n",
    "            description='q:',\n",
    "            disabled=False\n",
    "        )]\n",
    "    params_widgets[\"defType\"] = [widgets.Text(\n",
    "        value='lucene',\n",
    "        placeholder='deftype',\n",
    "        description='defType:',\n",
    "        disabled=False\n",
    "    )]\n",
    "    params_widgets[\"sort\"] = [widgets.Text(\n",
    "        value='score desc',\n",
    "        placeholder='sort',\n",
    "        description='sort:',\n",
    "        disabled=False\n",
    "    )]\n",
    "    params_widgets[\"rows\"] = [widgets.Text(\n",
    "        value='10',\n",
    "        placeholder='rows',\n",
    "        description='rows:',\n",
    "        disabled=False\n",
    "    )]\n",
    "    params_widgets[\"start\"] = [widgets.Text(\n",
    "        value='0',\n",
    "        placeholder='start',\n",
    "        description='start:',\n",
    "        disabled=False\n",
    "    )]\n",
    "    params_widgets[\"fl\"] = [widgets.Text(\n",
    "        value='*,score',\n",
    "        placeholder='fl',\n",
    "        description='fl:',\n",
    "        disabled=False\n",
    "    )]\n",
    "    params_widgets[\"fq\"] = []\n",
    "    for i in range(0,4):\n",
    "        params_widgets[\"fq\"].append(widgets.Text(\n",
    "            value='',\n",
    "            placeholder='filter query',\n",
    "            description='fq:',\n",
    "            disabled=False\n",
    "        ))\n",
    "    \n",
    "    for w in list(itertools.chain.from_iterable(params_widgets.values())):\n",
    "        display(w)\n",
    "        \n",
    "    def on_button_click(button):\n",
    "        global response\n",
    "        response = query_solr(url, params_widgets)\n",
    "        print(\"done.\")\n",
    "\n",
    "    button = widgets.Button(\n",
    "        description='Send',\n",
    "        disabled=False,\n",
    "        button_style='success',\n",
    "        tooltip='Click me',\n",
    "        icon='check'\n",
    "    )\n",
    "    button.on_click(on_button_click)\n",
    "    display(button)"
   ]
  },
  {
   "cell_type": "code",
   "execution_count": null,
   "id": "66fd3772",
   "metadata": {
    "scrolled": false
   },
   "outputs": [],
   "source": [
    "global params_widgets\n",
    "global url\n",
    "url = 'http://localhost:8080/solr/newseye_collection/select?'\n",
    "solr_paramaters = [(\"q\",\"*:*\")]\n",
    "generate_widgets(solr_paramaters)\n"
   ]
  },
  {
   "cell_type": "code",
   "execution_count": null,
   "id": "5e861b06",
   "metadata": {},
   "outputs": [],
   "source": [
    "RenderJSON(response)"
   ]
  },
  {
   "cell_type": "markdown",
   "id": "b66f6384",
   "metadata": {},
   "source": [
    "**<u>Common parameters</u>**\n",
    "\n",
    "Solr can support different set of parameters, each set corresponds to a different way of expressing queries. The following parameters are common to all available query parsers.\n",
    "- **defType:** *(default: lucene)* allows you to select which query parser Solr should use when processing your query. You can choose betwen *lucene*, *dismax* or *edismax*.\n",
    "- **sort:** *(default: score desc)* allows you to select how Solr will sort the results of your query. The syntax is as follows: `<field> <order>`, where `<field>` is the field over which you want to sort the results and `<order>` is *asc* for ascending or *desc* for descending. The default value will present documents in the descending order of their relevancy score.\n",
    "- **rows:** *(default: 10)* how many results will be returned by Solr. A search can return many results and it is not always desirable to display all of them at once. This parameter will limit the amount of documents returned by the search.\n",
    "- **start:** *(default: 0)* is used to specify an offset in the results list. Solr will display documents from this offset onwards. This parameter can be used in conjunction with the **rows** parameter to setup the paging of results. If the **rows** parameter is set to 10 (the default value), the first page of results can be displayed by setting **start** to 0. You can then get the second page by issuing the same request but setting the **start** parameter to 10, the second page by setting it to 20, *etc*.\n",
    "- **fl:** *(default: &ast;)* this parameter instructs Solr on which field shouyld be returned for every document. The default value returns every fields. You can set it to a space-separated list of fields.\n",
    "- **fq:** can be used to filter the documents returned after a query. The value of this parameter is in the form `<field>:<value or range>`. For example, setting this to `year:1950` will only return documents from this specific year ; setting it with a range can be done like this `year:[1900 TO 1910]`.\n",
    "\n",
    "For a complete list of the common parameters, see [this page](https://solr.apache.org/guide/8_0/common-query-parameters.html#common-query-parameters)."
   ]
  },
  {
   "cell_type": "markdown",
   "id": "13567aa4",
   "metadata": {},
   "source": [
    "**<u>Querying text fields</u>**\n",
    "\n",
    "The main parameter to use to search inside text field is the **q** parameter. It can contains terms and operators. Terms can either be single words like `fox` or `president`, or they can be phrases which are a group of words surrounded by double quotes like `\"green plant\"`. Several terms modifiers can be used to modify a search.\n",
    "- **Wildcard:** these can only be applied to single terms and not phrases. They add flexibility to the search by matching one character (using `?`) or several characters (using `*`). For example, the query `te?t` will match both `test` and `text`. The query `presi*` will match `president`, `presidential`, `presiding`, *etc*.\n",
    "- **Fuzzy search:** this is based on the edit distance algorithm. The system will match words that are similar to the query term, even if it is not an exact match. For example, the query `roam~` will match words like `foam` or `road`. By default, all words with an edit disyance of 2 will match the query word.\n",
    "- **Proximity search:** this type of search will look for words that are separated by a certain amount of different words. For example, the query `\"battle france\"~10` will match documents containing those two words separated by 10 other words at most.\n",
    "- **Boosting terms:** it is possible to control the relevancy of resulting documents by assigning a boost factor to the terms of your query. For example, the query `green^3 apple` will match documents containg those two terms, but document containing the term `green` will have a higher relevancy. The boost factor can also be set between 0 and 1 to lesser the relevancy of a particular term.\n",
    "\n",
    "Boolean operators (AND, OR, NOT) can be used to formulate more complex queries. See this in more details [here](https://solr.apache.org/guide/8_0/the-standard-query-parser.html#boolean-operators-supported-by-the-standard-query-parser)."
   ]
  },
  {
   "cell_type": "markdown",
   "id": "02e416a8",
   "metadata": {},
   "source": [
    "## b. Advanced parameters\n",
    "\n",
    "Solr provides different way to parse queries by setting the defType parameter (see *Common parameters* section above). The default one, `lucene`, allows to use all term modifiers described previously. However, others query parsers can be used, for example `dismax`. This parser prevents using the wildcard term modifier but allows for more control by defining more parameters.\n",
    "- **qf:** stands for \"query fields\". It allow you to specify which fields will be searched and how important they are. This can be useful for if you have several textual field but one of them should be given more importance? Imagine our documents contain a title, a content and a comment. In this case, the qf parameter could be set like this: `title^2 content comment^0.5`, giving matches in the title field twice the importance than matches in the content of a document, while matches in a comment are twice less important that matches in the content. It is to be noted that modifying this parameter will not modify which documents are returned but will indeed modify their relevancy score and the order they are returned.\n",
    "- **mm:** stands for \"minimum should match\". By default, terms in a query are all optionals (even though at least one term should be present for a document to match). You can modify this value using integers or percentage. For example, setting it to `3` means that at least 3 terms in the query should be present in a document for it to match. Another example: `50%` means that at least half of the terms in the query should be present in a document fot it to match. You can also set this value as a negative integer or percentage. For example, setting this parameter to `-25%` means that up to a quarter of the terms in the query may be missing in resulting documents.\n",
    "- **pf and ps:** corresponds to *phrase field* and *phrase slop*. It is very similar to the proximity search, but allows for more flexibility. In a sense, it allows to treat the entire content of the `q` parameter as a phrase without using quotes. The fields concerned by this need to be set in the *pf* paramters, while the *ps* parameter is set to an integer indicating how much a token needs to be moved to match a phrase.\n",
    "- **tie:**"
   ]
  },
  {
   "cell_type": "markdown",
   "id": "e537b52a",
   "metadata": {},
   "source": [
    "## c. Facetting\n",
    "\n",
    "The goal of facetting is to provide users with a way to navigate through the search results. After a query, a list of matching documents is returned. If facetting is activated on some fields, the search will also return the number of matching documents for each value of this field. This information ca, be used to build a user interface allowing users to filter the list of results and get an idea of the number of documents concerned by this filter. You can activate facets in a Solr query by setting the `facet` parameter to `true`. \n",
    "\n",
    "**<u>Field facetting</u>**\n",
    "\n",
    "One option is then to choose which field should be facetted using the `facet.field` parameter. It is to be noted that you can request for several facet fields by setting the `facet.field` parameter multiple times. Several parameters can be used to configure the returned facets. If you have only one `facet.field` parameter, you can use the following parameters directly. If you have several `facet.field`, they can be configure individually with this syntax: `f.<fieldname>.facet.<parameter>`.\n",
    "- **facet.sort:** this parameter determines the ordering of the terms returned. Possible value are `count` where the terms with the higher counts are first, and `index` where terms are ordered alphabetically whatever their count is.\n",
    "- **facet.limit:** this parameter determines the maximum number of terms to be returned.\n",
    "- **facet.offset:** this parameter determines an offset in the returned terms which can be used for paging.\n",
    "A lot more option are available, see [here](https://solr.apache.org/guide/8_0/faceting.html#field-value-faceting-parameters).\n",
    "\n",
    "**<u>Range facetting</u>**\n",
    "\n",
    "This type of facetting can be used on dates or numerical fields to create buckets of values for which you will get the number of matching documents. The syntax is similar to field facetting, and you can activate range facetting on specific fields by setting the `facet.range` parameter. If you set this parameter multiple times, you can configure each field individually by using the syntax `f.<fieldname>.facet.range.<parameter>`. The following parameters are mandatory when using range facetting.\n",
    "- **facet.range.start:** specifies the lowest bound of the range.\n",
    "- **facet.range.end:** specifies the upper bound of the range.\n",
    "- **facet.range.gap:** specifies the span of each range. This value will be added to the *start*\n",
    "Other options are available to further configure resulting facets, see [here](https://solr.apache.org/guide/8_0/faceting.html#range-faceting).\n",
    "\n",
    "**<u>Pivot facetting</u>**\n",
    "\n",
    "In a sense, this functionality allows you to extract sub-facets from the index. Using it is simple, you just have to set the `facet.pivot` parameter to a comma-separated list of fields to be used. The first field will be on level 1, the second on level 2, *etc*. "
   ]
  },
  {
   "cell_type": "markdown",
   "id": "d4ed4581",
   "metadata": {},
   "source": [
    "## d. Other useful features\n",
    "\n",
    "**<u>More like this</u>**\n",
    "\n",
    "Solr offers a way to identify documents similar to the ones returned after a query by setting the `mlt` parameter to `true`. Two parameters are then important here.\n",
    "- **mlt.count:** how many similar documents should be returned for each document in the query response.\n",
    "- **mlt.fl:** which fields should be used to compute the similarity.\n",
    "More advance parameters can be used to further refine how the similarity is computed. You can for example set the minimum/maximum term frequency from which terms are taken into account, the minimum/maximum document frequency, *etc*. See [here](https://solr.apache.org/guide/7_5/morelikethis.html#common-parameters-for-morelikethis) for more details.\n",
    "\n",
    "**<u>Hit highlighting</u>**\n",
    "\n",
    "Enabling highlighting allows Solr to return snippets of the resulting documents where the terms in the query appear. It is very useful to get a quick glance of the context of the terms used in the query. To enable it, you have to set the `hl` parameter to `true`. From there, several options are available."
   ]
  }
 ],
 "metadata": {
  "kernelspec": {
   "display_name": "Python 3",
   "language": "python",
   "name": "python3"
  },
  "language_info": {
   "codemirror_mode": {
    "name": "ipython",
    "version": 3
   },
   "file_extension": ".py",
   "mimetype": "text/x-python",
   "name": "python",
   "nbconvert_exporter": "python",
   "pygments_lexer": "ipython3",
   "version": "3.8.0"
  }
 },
 "nbformat": 4,
 "nbformat_minor": 5
}
