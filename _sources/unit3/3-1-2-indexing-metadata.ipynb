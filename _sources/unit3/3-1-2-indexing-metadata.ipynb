{
 "cells": [
  {
   "cell_type": "markdown",
   "id": "652f20bc",
   "metadata": {},
   "source": [
    "# 2. Indexing Metadata"
   ]
  },
  {
   "cell_type": "markdown",
   "id": "f6429596",
   "metadata": {},
   "source": [
    "## a. What is a metadata ?\n",
    "Technical, administrative, bibliographical"
   ]
  },
  {
   "cell_type": "markdown",
   "id": "ca698a6f",
   "metadata": {},
   "source": [
    "## b. History of metadata management\n",
    "Link to IO6 - 1.2"
   ]
  },
  {
   "cell_type": "markdown",
   "id": "56c78238",
   "metadata": {},
   "source": [
    "## c. Controlled vocabularies\n",
    "Dublin Core and other specialized vocabs"
   ]
  },
  {
   "cell_type": "code",
   "execution_count": null,
   "id": "6abbd443",
   "metadata": {},
   "outputs": [],
   "source": []
  }
 ],
 "metadata": {
  "kernelspec": {
   "display_name": "Python 3",
   "language": "python",
   "name": "python3"
  },
  "language_info": {
   "codemirror_mode": {
    "name": "ipython",
    "version": 3
   },
   "file_extension": ".py",
   "mimetype": "text/x-python",
   "name": "python",
   "nbconvert_exporter": "python",
   "pygments_lexer": "ipython3",
   "version": "3.8.0"
  }
 },
 "nbformat": 4,
 "nbformat_minor": 5
}
