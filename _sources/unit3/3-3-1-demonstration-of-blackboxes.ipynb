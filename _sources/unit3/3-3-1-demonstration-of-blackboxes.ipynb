{
 "cells": [
  {
   "cell_type": "markdown",
   "id": "f3b43909",
   "metadata": {},
   "source": [
    "# 1. Demonstration of blackboxes"
   ]
  },
  {
   "cell_type": "markdown",
   "id": "f79055bf",
   "metadata": {},
   "source": [
    "## a. OCR quality"
   ]
  },
  {
   "cell_type": "markdown",
   "id": "636020c9",
   "metadata": {},
   "source": [
    "## b. Segmentation quality\n",
    "Sentences, articles, etc."
   ]
  },
  {
   "cell_type": "markdown",
   "id": "504870cc",
   "metadata": {},
   "source": [
    "## c. Ranking problems"
   ]
  },
  {
   "cell_type": "markdown",
   "id": "fff3265c",
   "metadata": {},
   "source": [
    "## d. Difference between accessibility and disponibility\n",
    "Lorenz curves"
   ]
  }
 ],
 "metadata": {
  "kernelspec": {
   "display_name": "Python 3",
   "language": "python",
   "name": "python3"
  },
  "language_info": {
   "codemirror_mode": {
    "name": "ipython",
    "version": 3
   },
   "file_extension": ".py",
   "mimetype": "text/x-python",
   "name": "python",
   "nbconvert_exporter": "python",
   "pygments_lexer": "ipython3",
   "version": "3.8.0"
  }
 },
 "nbformat": 4,
 "nbformat_minor": 5
}
