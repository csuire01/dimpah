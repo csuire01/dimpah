{
 "cells": [
  {
   "cell_type": "markdown",
   "id": "64ce1c03",
   "metadata": {},
   "source": [
    "# Definition and objectives"
   ]
  },
  {
   "cell_type": "markdown",
   "id": "252ceca6",
   "metadata": {},
   "source": [
    "## What is an index and what is it used for ?"
   ]
  },
  {
   "cell_type": "markdown",
   "id": "e366787f",
   "metadata": {},
   "source": [
    "## Tools and use cases"
   ]
  },
  {
   "cell_type": "markdown",
   "id": "db9acc90",
   "metadata": {},
   "source": [
    "## The example of the NewsEye project"
   ]
  },
  {
   "cell_type": "markdown",
   "id": "c6898e65",
   "metadata": {},
   "source": [
    "## Practical case: introduction to Apache Solr"
   ]
  }
 ],
 "metadata": {
  "kernelspec": {
   "display_name": "Python 3",
   "language": "python",
   "name": "python3"
  },
  "language_info": {
   "codemirror_mode": {
    "name": "ipython",
    "version": 3
   },
   "file_extension": ".py",
   "mimetype": "text/x-python",
   "name": "python",
   "nbconvert_exporter": "python",
   "pygments_lexer": "ipython3",
   "version": "3.8.8"
  }
 },
 "nbformat": 4,
 "nbformat_minor": 5
}
