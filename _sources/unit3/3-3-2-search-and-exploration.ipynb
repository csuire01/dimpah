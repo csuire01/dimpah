{
 "cells": [
  {
   "cell_type": "markdown",
   "id": "397cac8d",
   "metadata": {},
   "source": [
    "# 2. Advanced Search and Exploration\n",
    "See NewsEye workshop"
   ]
  },
  {
   "cell_type": "markdown",
   "id": "4927137f",
   "metadata": {},
   "source": [
    "## a. Searching with the NewsEye platform"
   ]
  },
  {
   "cell_type": "markdown",
   "id": "c11f95f1",
   "metadata": {},
   "source": [
    "## b. Create and export corpus"
   ]
  },
  {
   "cell_type": "markdown",
   "id": "a066b9a2",
   "metadata": {},
   "source": [
    "## c. Analyse a collection of documents"
   ]
  }
 ],
 "metadata": {
  "kernelspec": {
   "display_name": "Python 3",
   "language": "python",
   "name": "python3"
  },
  "language_info": {
   "codemirror_mode": {
    "name": "ipython",
    "version": 3
   },
   "file_extension": ".py",
   "mimetype": "text/x-python",
   "name": "python",
   "nbconvert_exporter": "python",
   "pygments_lexer": "ipython3",
   "version": "3.8.0"
  }
 },
 "nbformat": 4,
 "nbformat_minor": 5
}
