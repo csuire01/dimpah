{
 "cells": [
  {
   "cell_type": "markdown",
   "id": "5f9f1fb1",
   "metadata": {},
   "source": [
    "# Introduction"
   ]
  },
  {
   "cell_type": "markdown",
   "id": "e5c5bc08",
   "metadata": {},
   "source": [
    "In the previous units, we have seen the particularities of historical text documents through the example of historical newspapers. We have studied the different methods that can be used to digitise this material, enrich and extract information from it. However, most of the time, historical newspapers are accessible through digital libraries that provide access to a very large number of documents. Moreover, these digital libraries rely on often obscure digital processing that affect the way the results are presented. Conducting research in these systems and building relevant and reliable collections is therefore a complex task that requires an understanding of how data is indexed and how search tools work. In this Unit, using examples and case studies, we will highlight how these tools work and draw students' attention to their effect and consequences. "
   ]
  },
  {
   "cell_type": "markdown",
   "id": "39b4d224",
   "metadata": {},
   "source": [
    "## Key resource"
   ]
  },
  {
   "cell_type": "markdown",
   "id": "5815bd79",
   "metadata": {},
   "source": [
    "TBD"
   ]
  },
  {
   "cell_type": "markdown",
   "id": "4b674c0c",
   "metadata": {},
   "source": [
    "## Technical documentation"
   ]
  },
  {
   "cell_type": "markdown",
   "id": "f2071553",
   "metadata": {},
   "source": [
    "- In this lesson, we will make extensive use of Apache [Solr](https://solr.apache.org/) open-source search server, you can refer to its latest [documentation](https://solr.apache.org/guide/).\n",
    "- As we are mainly using Python in this course, we will make use of the [Pysolr library](https://pypi.org/project/pysolr/). This library is already included in this notebook and ready to be used with Binder.  "
   ]
  }
 ],
 "metadata": {
  "kernelspec": {
   "display_name": "Python 3",
   "language": "python",
   "name": "python3"
  },
  "language_info": {
   "codemirror_mode": {
    "name": "ipython",
    "version": 3
   },
   "file_extension": ".py",
   "mimetype": "text/x-python",
   "name": "python",
   "nbconvert_exporter": "python",
   "pygments_lexer": "ipython3",
   "version": "3.8.8"
  }
 },
 "nbformat": 4,
 "nbformat_minor": 5
}
